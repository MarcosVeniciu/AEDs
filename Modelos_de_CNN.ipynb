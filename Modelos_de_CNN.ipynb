{
  "nbformat": 4,
  "nbformat_minor": 0,
  "metadata": {
    "colab": {
      "provenance": [],
      "authorship_tag": "ABX9TyNOA1fHZc85VPy80WPWdoHO",
      "include_colab_link": true
    },
    "kernelspec": {
      "name": "python3",
      "display_name": "Python 3"
    },
    "language_info": {
      "name": "python"
    }
  },
  "cells": [
    {
      "cell_type": "markdown",
      "metadata": {
        "id": "view-in-github",
        "colab_type": "text"
      },
      "source": [
        "<a href=\"https://colab.research.google.com/github/MarcosVeniciu/AEDs/blob/master/Modelos_de_CNN.ipynb\" target=\"_parent\"><img src=\"https://colab.research.google.com/assets/colab-badge.svg\" alt=\"Open In Colab\"/></a>"
      ]
    },
    {
      "cell_type": "code",
      "execution_count": 1,
      "metadata": {
        "id": "ga1I0yJ_tIPA"
      },
      "outputs": [],
      "source": [
        "import tensorflow as tf\n",
        "from tensorflow import keras"
      ]
    },
    {
      "cell_type": "code",
      "source": [
        "image_size = (180, 180)\n",
        "input_shape = image_size + (3,)\n",
        "num_classes = 2\n",
        "dropout = 0.5"
      ],
      "metadata": {
        "id": "2fUAAyVxt7Tm"
      },
      "execution_count": 10,
      "outputs": []
    },
    {
      "cell_type": "code",
      "source": [
        "# Aplicando algumas transformações nas imagens, para aumentar o dataset\n",
        "\n",
        "data_augmentation = keras.Sequential(\n",
        "    [\n",
        "        keras.layers.experimental.preprocessing.RandomFlip(\"horizontal\"),\n",
        "        keras.layers.experimental.preprocessing.RandomRotation(0.12),\n",
        "    ]\n",
        ")"
      ],
      "metadata": {
        "id": "1r4V-4C8uWE7"
      },
      "execution_count": 4,
      "outputs": []
    },
    {
      "cell_type": "markdown",
      "source": [
        "#Xception"
      ],
      "metadata": {
        "id": "vgV23QMjtwdx"
      }
    },
    {
      "cell_type": "code",
      "source": [
        "def xception(input_shape, num_classes, dropout):\n",
        "  base_model = keras.applications.Xception(\n",
        "    weights=None,  # Os pesos serão inicializados aleatóriamente.\n",
        "    input_shape=input_shape,\n",
        "    include_top=False, # Não vai incluir a camada de classificação\n",
        "  )  \n",
        "\n",
        "  # freeze the base_model\n",
        "  base_model.trainable = True # Sendo True vai permitir que os pesos sejam atualizados durante o treinamento\n",
        "\n",
        "  # Create new model on top\n",
        "  inputs = keras.Input(shape=input_shape)\n",
        "  x = data_augmentation(inputs)  # Apply random data augmentation\n",
        "\n",
        "  # Pre-trained Xception weights requires that input be scaled\n",
        "  # from (0, 255) to a range of (-1., +1.), the rescaling layer\n",
        "  # outputs: `(inputs * scale) + offset`\n",
        "  scale_layer = keras.layers.Rescaling(scale=1 / 127.5, offset=-1)\n",
        "  x = scale_layer(x)\n",
        "  \n",
        "  # The base model contains batchnorm layers. We want to keep them in inference mode\n",
        "  # when we unfreeze the base model for fine-tuning, so we make sure that the\n",
        "  # base_model is running in inference mode here.\n",
        "  x = base_model(x, training=True)\n",
        "  x = keras.layers.GlobalAveragePooling2D()(x)\n",
        "\n",
        "  if num_classes == 2:\n",
        "    activation = \"sigmoid\"\n",
        "    units = 1\n",
        "  else:\n",
        "    activation = \"softmax\"\n",
        "    units = num_classes\n",
        "\n",
        "  x = keras.layers.Dropout(dropout, name=\"dropout_2\")(x) # Regularize with dropout\n",
        "  x = keras.layers.Dense(1024, activation=activation)(x)\n",
        "  x = keras.layers.Dense(512, activation=activation)(x)\n",
        "  outputs = keras.layers.Dense(units, activation=activation)(x)\n",
        "  return keras.Model(inputs, outputs)"
      ],
      "metadata": {
        "id": "9_B5Wdp8tv8f"
      },
      "execution_count": 23,
      "outputs": []
    },
    {
      "cell_type": "code",
      "source": [
        "modelo = xception(input_shape, num_classes, dropout)  \n",
        "modelo.summary()"
      ],
      "metadata": {
        "colab": {
          "base_uri": "https://localhost:8080/"
        },
        "id": "d2a0dG62t_YO",
        "outputId": "ae2e740c-79cd-4735-93c6-c0cf15b8a6d4"
      },
      "execution_count": 24,
      "outputs": [
        {
          "output_type": "stream",
          "name": "stdout",
          "text": [
            "Model: \"model_7\"\n",
            "_________________________________________________________________\n",
            " Layer (type)                Output Shape              Param #   \n",
            "=================================================================\n",
            " input_18 (InputLayer)       [(None, 180, 180, 3)]     0         \n",
            "                                                                 \n",
            " sequential (Sequential)     (None, 180, 180, 3)       0         \n",
            "                                                                 \n",
            " rescaling_8 (Rescaling)     (None, 180, 180, 3)       0         \n",
            "                                                                 \n",
            " xception (Functional)       (None, 6, 6, 2048)        20861480  \n",
            "                                                                 \n",
            " global_average_pooling2d_8   (None, 2048)             0         \n",
            " (GlobalAveragePooling2D)                                        \n",
            "                                                                 \n",
            " dropout_2 (Dropout)         (None, 2048)              0         \n",
            "                                                                 \n",
            " dense_11 (Dense)            (None, 1024)              2098176   \n",
            "                                                                 \n",
            " dense_12 (Dense)            (None, 512)               524800    \n",
            "                                                                 \n",
            " dense_13 (Dense)            (None, 1)                 513       \n",
            "                                                                 \n",
            "=================================================================\n",
            "Total params: 23,484,969\n",
            "Trainable params: 23,430,441\n",
            "Non-trainable params: 54,528\n",
            "_________________________________________________________________\n"
          ]
        }
      ]
    },
    {
      "cell_type": "markdown",
      "source": [
        "# MobileNetV2"
      ],
      "metadata": {
        "id": "eKLH089BvVpm"
      }
    },
    {
      "cell_type": "code",
      "source": [
        "def MobileNetV2(input_shape, num_classes, dropout):\n",
        "  base_model = keras.applications.MobileNetV2(\n",
        "    weights= None,  # Os pesos serão inicializados aleatóriamente.\n",
        "    input_shape= input_shape,\n",
        "    alpha=1.0,\n",
        "    include_top=False, # Não vai incluir a camada de classificação.\n",
        "  )\n",
        "\n",
        "  # Freeze the base_model\n",
        "  base_model.trainable = True # Sendo True vai permitir que os pesos sejam atualizados durante o treinamento\n",
        "\n",
        "  inputs = keras.Input(shape = input_shape)\n",
        "  x = data_augmentation(inputs)  # Apply random data augmentation\n",
        "\n",
        "  scale_layer = keras.layers.Rescaling(scale=1 / 127.5, offset=-1)\n",
        "  x = scale_layer(x)\n",
        "\n",
        "  x = base_model(x, training=True)\n",
        "  x = keras.layers.GlobalAveragePooling2D()(x)\n",
        "\n",
        "  if num_classes == 2:\n",
        "    activation = \"sigmoid\"\n",
        "    units = 1\n",
        "  else:\n",
        "    activation = \"softmax\"\n",
        "    units = num_classes\n",
        "\n",
        "  x = keras.layers.Dropout(dropout, name=\"dropout_2\")(x) # Regularize with dropout\n",
        "  x = keras.layers.Dense(640, activation=activation)(x)\n",
        "  x = keras.layers.Dense(320, activation=activation)(x)\n",
        "  outputs = keras.layers.Dense(units, activation=activation)(x)\n",
        "  \n",
        "  return keras.Model(inputs, outputs)  "
      ],
      "metadata": {
        "id": "WKDJXeh3vT4y"
      },
      "execution_count": 25,
      "outputs": []
    },
    {
      "cell_type": "code",
      "source": [
        "modelo = MobileNetV2(input_shape, num_classes, dropout)  \n",
        "modelo.summary()"
      ],
      "metadata": {
        "colab": {
          "base_uri": "https://localhost:8080/"
        },
        "id": "ypOZWA1Jvj2a",
        "outputId": "ce3d6f8f-6e01-4883-b9bc-c5db5063ca38"
      },
      "execution_count": 26,
      "outputs": [
        {
          "output_type": "stream",
          "name": "stdout",
          "text": [
            "Model: \"model_8\"\n",
            "_________________________________________________________________\n",
            " Layer (type)                Output Shape              Param #   \n",
            "=================================================================\n",
            " input_20 (InputLayer)       [(None, 180, 180, 3)]     0         \n",
            "                                                                 \n",
            " sequential (Sequential)     (None, 180, 180, 3)       0         \n",
            "                                                                 \n",
            " rescaling_9 (Rescaling)     (None, 180, 180, 3)       0         \n",
            "                                                                 \n",
            " mobilenetv2_1.00_180 (Funct  (None, 6, 6, 1280)       2257984   \n",
            " ional)                                                          \n",
            "                                                                 \n",
            " global_average_pooling2d_9   (None, 1280)             0         \n",
            " (GlobalAveragePooling2D)                                        \n",
            "                                                                 \n",
            " dropout_2 (Dropout)         (None, 1280)              0         \n",
            "                                                                 \n",
            " dense_14 (Dense)            (None, 640)               819840    \n",
            "                                                                 \n",
            " dense_15 (Dense)            (None, 320)               205120    \n",
            "                                                                 \n",
            " dense_16 (Dense)            (None, 1)                 321       \n",
            "                                                                 \n",
            "=================================================================\n",
            "Total params: 3,283,265\n",
            "Trainable params: 3,249,153\n",
            "Non-trainable params: 34,112\n",
            "_________________________________________________________________\n"
          ]
        }
      ]
    },
    {
      "cell_type": "markdown",
      "source": [
        "# Referências"
      ],
      "metadata": {
        "id": "qXvMYwMXNi6U"
      }
    },
    {
      "cell_type": "markdown",
      "source": [
        "[1] [Lista de modelos disponiveis no keras](https://keras.io/api/applications/#usage-examples-for-image-classification-models)"
      ],
      "metadata": {
        "id": "6bT4SyNoNlQ3"
      }
    }
  ]
}