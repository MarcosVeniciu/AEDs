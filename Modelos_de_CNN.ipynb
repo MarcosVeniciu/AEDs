{
  "nbformat": 4,
  "nbformat_minor": 0,
  "metadata": {
    "colab": {
      "provenance": [],
      "authorship_tag": "ABX9TyMZFU7OYwdmzRcVRNTsrVbX",
      "include_colab_link": true
    },
    "kernelspec": {
      "name": "python3",
      "display_name": "Python 3"
    },
    "language_info": {
      "name": "python"
    }
  },
  "cells": [
    {
      "cell_type": "markdown",
      "metadata": {
        "id": "view-in-github",
        "colab_type": "text"
      },
      "source": [
        "<a href=\"https://colab.research.google.com/github/MarcosVeniciu/AEDs/blob/master/Modelos_de_CNN.ipynb\" target=\"_parent\"><img src=\"https://colab.research.google.com/assets/colab-badge.svg\" alt=\"Open In Colab\"/></a>"
      ]
    },
    {
      "cell_type": "markdown",
      "source": [
        "![image.png](data:image/png;base64,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)\n",
        "\n",
        "\n",
        "\n",
        "\n"
      ],
      "metadata": {
        "id": "ynSyNFJjQTDh"
      }
    },
    {
      "cell_type": "code",
      "execution_count": 1,
      "metadata": {
        "id": "ga1I0yJ_tIPA"
      },
      "outputs": [],
      "source": [
        "import tensorflow as tf\n",
        "from tensorflow import keras"
      ]
    },
    {
      "cell_type": "code",
      "source": [
        "image_size = (180, 180)\n",
        "input_shape = image_size + (3,)\n",
        "num_classes = 2\n",
        "dropout = 0.5"
      ],
      "metadata": {
        "id": "2fUAAyVxt7Tm"
      },
      "execution_count": 2,
      "outputs": []
    },
    {
      "cell_type": "code",
      "source": [
        "# Aplicando algumas transformações nas imagens, para aumentar o dataset\n",
        "\n",
        "data_augmentation = keras.Sequential(\n",
        "    [\n",
        "        keras.layers.experimental.preprocessing.RandomFlip(\"horizontal\"),\n",
        "        keras.layers.experimental.preprocessing.RandomRotation(0.12),\n",
        "    ]\n",
        ")"
      ],
      "metadata": {
        "id": "1r4V-4C8uWE7"
      },
      "execution_count": 3,
      "outputs": []
    },
    {
      "cell_type": "markdown",
      "source": [
        "#Xception"
      ],
      "metadata": {
        "id": "vgV23QMjtwdx"
      }
    },
    {
      "cell_type": "code",
      "source": [
        "def xception(input_shape, num_classes, dropout):\n",
        "  base_model = keras.applications.Xception(\n",
        "    weights=None,  # Os pesos serão inicializados aleatóriamente.\n",
        "    input_shape=input_shape,\n",
        "    include_top=False, # Não vai incluir a camada de classificação\n",
        "  )  \n",
        "\n",
        "  # freeze the base_model\n",
        "  base_model.trainable = True # Sendo True vai permitir que os pesos sejam atualizados durante o treinamento\n",
        "\n",
        "  # Create new model on top\n",
        "  inputs = keras.Input(shape=input_shape)\n",
        "  x = data_augmentation(inputs)  # Apply random data augmentation\n",
        "\n",
        "  # Pre-trained Xception weights requires that input be scaled\n",
        "  # from (0, 255) to a range of (-1., +1.), the rescaling layer\n",
        "  # outputs: `(inputs * scale) + offset`\n",
        "  scale_layer = keras.layers.Rescaling(scale=1 / 127.5, offset=-1)\n",
        "  x = scale_layer(x)\n",
        "  \n",
        "  # The base model contains batchnorm layers. We want to keep them in inference mode\n",
        "  # when we unfreeze the base model for fine-tuning, so we make sure that the\n",
        "  # base_model is running in inference mode here.\n",
        "  x = base_model(x, training=True)\n",
        "  x = keras.layers.GlobalAveragePooling2D()(x)\n",
        "\n",
        "  if num_classes == 2:\n",
        "    activation = \"sigmoid\"\n",
        "    units = 1\n",
        "  else:\n",
        "    activation = \"softmax\"\n",
        "    units = num_classes\n",
        "\n",
        "  x = keras.layers.Dropout(dropout, name=\"dropout_2\")(x) # Regularize with dropout\n",
        "  x = keras.layers.Dense(1024, activation='relu')(x)\n",
        "  x = keras.layers.Dense(512, activation='relu')(x)\n",
        "  outputs = keras.layers.Dense(units, activation=activation)(x)\n",
        "  return keras.Model(inputs, outputs)"
      ],
      "metadata": {
        "id": "9_B5Wdp8tv8f"
      },
      "execution_count": 37,
      "outputs": []
    },
    {
      "cell_type": "code",
      "source": [
        "modelo = xception(input_shape, num_classes, dropout)  \n",
        "modelo.summary()"
      ],
      "metadata": {
        "colab": {
          "base_uri": "https://localhost:8080/"
        },
        "id": "d2a0dG62t_YO",
        "outputId": "eb31326a-f58e-44df-a555-b3d42cf62e4f"
      },
      "execution_count": 38,
      "outputs": [
        {
          "output_type": "stream",
          "name": "stdout",
          "text": [
            "Model: \"model_11\"\n",
            "_________________________________________________________________\n",
            " Layer (type)                Output Shape              Param #   \n",
            "=================================================================\n",
            " input_31 (InputLayer)       [(None, 180, 180, 3)]     0         \n",
            "                                                                 \n",
            " sequential (Sequential)     (None, 180, 180, 3)       0         \n",
            "                                                                 \n",
            " rescaling_17 (Rescaling)    (None, 180, 180, 3)       0         \n",
            "                                                                 \n",
            " xception (Functional)       (None, 6, 6, 2048)        20861480  \n",
            "                                                                 \n",
            " global_average_pooling2d_14  (None, 2048)             0         \n",
            "  (GlobalAveragePooling2D)                                       \n",
            "                                                                 \n",
            " dropout_2 (Dropout)         (None, 2048)              0         \n",
            "                                                                 \n",
            " dense_42 (Dense)            (None, 1024)              2098176   \n",
            "                                                                 \n",
            " dense_43 (Dense)            (None, 512)               524800    \n",
            "                                                                 \n",
            " dense_44 (Dense)            (None, 1)                 513       \n",
            "                                                                 \n",
            "=================================================================\n",
            "Total params: 23,484,969\n",
            "Trainable params: 23,430,441\n",
            "Non-trainable params: 54,528\n",
            "_________________________________________________________________\n"
          ]
        }
      ]
    },
    {
      "cell_type": "markdown",
      "source": [
        "# MobileNetV2"
      ],
      "metadata": {
        "id": "eKLH089BvVpm"
      }
    },
    {
      "cell_type": "code",
      "source": [
        "def MobileNetV2(input_shape, num_classes, dropout):\n",
        "  base_model = keras.applications.MobileNetV2(\n",
        "    weights= None,  # Os pesos serão inicializados aleatóriamente.\n",
        "    input_shape= input_shape,\n",
        "    alpha=1.0,\n",
        "    include_top=False, # Não vai incluir a camada de classificação.\n",
        "  )\n",
        "\n",
        "  # Freeze the base_model\n",
        "  base_model.trainable = True # Sendo True vai permitir que os pesos sejam atualizados durante o treinamento\n",
        "\n",
        "  inputs = keras.Input(shape = input_shape)\n",
        "  x = data_augmentation(inputs)  # Apply random data augmentation\n",
        "\n",
        "  scale_layer = keras.layers.Rescaling(scale=1 / 127.5, offset=-1)\n",
        "  x = scale_layer(x)\n",
        "\n",
        "  x = base_model(x, training=True)\n",
        "  x = keras.layers.GlobalAveragePooling2D()(x)\n",
        "\n",
        "  if num_classes == 2:\n",
        "    activation = \"sigmoid\"\n",
        "    units = 1\n",
        "  else:\n",
        "    activation = \"softmax\"\n",
        "    units = num_classes\n",
        "\n",
        "  x = keras.layers.Dropout(dropout, name=\"dropout_2\")(x) # Regularize with dropout\n",
        "  x = keras.layers.Dense(640, activation='relu')(x)\n",
        "  x = keras.layers.Dense(320, activation='relu')(x)\n",
        "  outputs = keras.layers.Dense(units, activation=activation)(x)\n",
        "  \n",
        "  return keras.Model(inputs, outputs)  "
      ],
      "metadata": {
        "id": "WKDJXeh3vT4y"
      },
      "execution_count": 41,
      "outputs": []
    },
    {
      "cell_type": "code",
      "source": [
        "modelo = MobileNetV2(input_shape, num_classes, dropout)  \n",
        "modelo.summary()"
      ],
      "metadata": {
        "colab": {
          "base_uri": "https://localhost:8080/"
        },
        "id": "ypOZWA1Jvj2a",
        "outputId": "eb32b0a8-2fa1-4274-b867-54d9211f1299"
      },
      "execution_count": 42,
      "outputs": [
        {
          "output_type": "stream",
          "name": "stdout",
          "text": [
            "Model: \"model_12\"\n",
            "_________________________________________________________________\n",
            " Layer (type)                Output Shape              Param #   \n",
            "=================================================================\n",
            " input_35 (InputLayer)       [(None, 180, 180, 3)]     0         \n",
            "                                                                 \n",
            " sequential (Sequential)     (None, 180, 180, 3)       0         \n",
            "                                                                 \n",
            " rescaling_19 (Rescaling)    (None, 180, 180, 3)       0         \n",
            "                                                                 \n",
            " mobilenetv2_1.00_180 (Funct  (None, 6, 6, 1280)       2257984   \n",
            " ional)                                                          \n",
            "                                                                 \n",
            " global_average_pooling2d_16  (None, 1280)             0         \n",
            "  (GlobalAveragePooling2D)                                       \n",
            "                                                                 \n",
            " dropout_2 (Dropout)         (None, 1280)              0         \n",
            "                                                                 \n",
            " dense_48 (Dense)            (None, 640)               819840    \n",
            "                                                                 \n",
            " dense_49 (Dense)            (None, 320)               205120    \n",
            "                                                                 \n",
            " dense_50 (Dense)            (None, 1)                 321       \n",
            "                                                                 \n",
            "=================================================================\n",
            "Total params: 3,283,265\n",
            "Trainable params: 3,249,153\n",
            "Non-trainable params: 34,112\n",
            "_________________________________________________________________\n"
          ]
        }
      ]
    },
    {
      "cell_type": "markdown",
      "source": [
        "# NASNetMobile"
      ],
      "metadata": {
        "id": "Ieip_RZfYxSZ"
      }
    },
    {
      "cell_type": "code",
      "source": [
        "def NASNetMobile(input_shape, num_classes, dropout):\n",
        "  base_model = keras.applications.nasnet.NASNetMobile(\n",
        "    input_shape=input_shape,\n",
        "    include_top=False,  # Não vai incluir a camada de classificação.\n",
        "    weights=None,  # Os pesos serão inicializados aleatóriamente.\n",
        "  )\n",
        "\n",
        "  # Freeze the base_model\n",
        "  base_model.trainable = True # Sendo True vai permitir que os pesos sejam atualizados durante o treinamento\n",
        "\n",
        "  inputs = keras.Input(shape = input_shape)\n",
        "  x = data_augmentation(inputs)  # Apply random data augmentation\n",
        "\n",
        "  scale_layer = keras.layers.Rescaling(scale=1 / 127.5, offset=-1)\n",
        "  x = scale_layer(x)\n",
        "\n",
        "  x = base_model(x, training=True)\n",
        "  x = keras.layers.GlobalAveragePooling2D()(x)\n",
        "\n",
        "  if num_classes == 2:\n",
        "    activation = \"sigmoid\"\n",
        "    units = 1\n",
        "  else:\n",
        "    activation = \"softmax\"\n",
        "    units = num_classes\n",
        "\n",
        "  x = keras.layers.Dropout(dropout, name=\"dropout_2\")(x) # Regularize with dropout\n",
        "  x = keras.layers.Dense(528, activation='relu')(x)\n",
        "  x = keras.layers.Dense(264, activation='relu')(x)\n",
        "  outputs = keras.layers.Dense(units, activation=activation)(x)\n",
        "  \n",
        "  return keras.Model(inputs, outputs)  "
      ],
      "metadata": {
        "id": "b1lDJ_u_Y3AH"
      },
      "execution_count": 45,
      "outputs": []
    },
    {
      "cell_type": "code",
      "source": [
        "modelo = NASNetMobile(input_shape, num_classes, dropout)  \n",
        "modelo.summary()"
      ],
      "metadata": {
        "colab": {
          "base_uri": "https://localhost:8080/"
        },
        "id": "HZ68tUPZca1H",
        "outputId": "841be994-a414-4676-a883-a565e72169c5"
      },
      "execution_count": 46,
      "outputs": [
        {
          "output_type": "stream",
          "name": "stdout",
          "text": [
            "Model: \"model_13\"\n",
            "_________________________________________________________________\n",
            " Layer (type)                Output Shape              Param #   \n",
            "=================================================================\n",
            " input_39 (InputLayer)       [(None, 180, 180, 3)]     0         \n",
            "                                                                 \n",
            " sequential (Sequential)     (None, 180, 180, 3)       0         \n",
            "                                                                 \n",
            " rescaling_21 (Rescaling)    (None, 180, 180, 3)       0         \n",
            "                                                                 \n",
            " NASNet (Functional)         (None, 6, 6, 1056)        4269716   \n",
            "                                                                 \n",
            " global_average_pooling2d_18  (None, 1056)             0         \n",
            "  (GlobalAveragePooling2D)                                       \n",
            "                                                                 \n",
            " dropout_2 (Dropout)         (None, 1056)              0         \n",
            "                                                                 \n",
            " dense_54 (Dense)            (None, 528)               558096    \n",
            "                                                                 \n",
            " dense_55 (Dense)            (None, 264)               139656    \n",
            "                                                                 \n",
            " dense_56 (Dense)            (None, 1)                 265       \n",
            "                                                                 \n",
            "=================================================================\n",
            "Total params: 4,967,733\n",
            "Trainable params: 4,930,995\n",
            "Non-trainable params: 36,738\n",
            "_________________________________________________________________\n"
          ]
        }
      ]
    },
    {
      "cell_type": "markdown",
      "source": [
        "# DenseNet121"
      ],
      "metadata": {
        "id": "ZeH1YbJdd2NY"
      }
    },
    {
      "cell_type": "code",
      "source": [
        "def DenseNet121(input_shape, num_classes, dropout):\n",
        "  base_model = keras.applications.densenet.DenseNet121(\n",
        "    include_top=False, # Não vai incluir a camada de classificação.\n",
        "    weights=None, # Os pesos serão inicializados aleatóriamente.\n",
        "    input_shape=input_shape,\n",
        "  )\n",
        "\n",
        "  # Freeze the base_model\n",
        "  base_model.trainable = True # Sendo True vai permitir que os pesos sejam atualizados durante o treinamento\n",
        "\n",
        "  inputs = keras.Input(shape = input_shape)\n",
        "  x = data_augmentation(inputs)  # Apply random data augmentation\n",
        "\n",
        "  scale_layer = keras.layers.Rescaling(scale=1./255)\n",
        "  x = scale_layer(x)\n",
        "\n",
        "  x = base_model(x, training=True)\n",
        "  x = keras.layers.GlobalAveragePooling2D()(x)\n",
        "\n",
        "  if num_classes == 2:\n",
        "    activation = \"sigmoid\"\n",
        "    units = 1\n",
        "  else:\n",
        "    activation = \"softmax\"\n",
        "    units = num_classes\n",
        "\n",
        "  x = keras.layers.Dropout(dropout, name=\"dropout_2\")(x) # Regularize with dropout\n",
        "  x = keras.layers.Dense(512, activation='relu')(x)\n",
        "  x = keras.layers.Dense(256, activation='relu')(x)\n",
        "  outputs = keras.layers.Dense(units, activation=activation)(x)\n",
        "  \n",
        "  return keras.Model(inputs, outputs)  "
      ],
      "metadata": {
        "id": "gmxRS4Tod3Yt"
      },
      "execution_count": 49,
      "outputs": []
    },
    {
      "cell_type": "code",
      "source": [
        "modelo = DenseNet121(input_shape, num_classes, dropout)  \n",
        "modelo.summary()"
      ],
      "metadata": {
        "colab": {
          "base_uri": "https://localhost:8080/"
        },
        "id": "565YWAbdeqi9",
        "outputId": "1d80d982-9a52-4866-faea-93a1a7047bfa"
      },
      "execution_count": 50,
      "outputs": [
        {
          "output_type": "stream",
          "name": "stdout",
          "text": [
            "Model: \"model_14\"\n",
            "_________________________________________________________________\n",
            " Layer (type)                Output Shape              Param #   \n",
            "=================================================================\n",
            " input_43 (InputLayer)       [(None, 180, 180, 3)]     0         \n",
            "                                                                 \n",
            " sequential (Sequential)     (None, 180, 180, 3)       0         \n",
            "                                                                 \n",
            " rescaling_23 (Rescaling)    (None, 180, 180, 3)       0         \n",
            "                                                                 \n",
            " densenet121 (Functional)    (None, 5, 5, 1024)        7037504   \n",
            "                                                                 \n",
            " global_average_pooling2d_20  (None, 1024)             0         \n",
            "  (GlobalAveragePooling2D)                                       \n",
            "                                                                 \n",
            " dropout_2 (Dropout)         (None, 1024)              0         \n",
            "                                                                 \n",
            " dense_60 (Dense)            (None, 512)               524800    \n",
            "                                                                 \n",
            " dense_61 (Dense)            (None, 256)               131328    \n",
            "                                                                 \n",
            " dense_62 (Dense)            (None, 1)                 257       \n",
            "                                                                 \n",
            "=================================================================\n",
            "Total params: 7,693,889\n",
            "Trainable params: 7,610,241\n",
            "Non-trainable params: 83,648\n",
            "_________________________________________________________________\n"
          ]
        }
      ]
    },
    {
      "cell_type": "markdown",
      "source": [
        "# InceptionV3"
      ],
      "metadata": {
        "id": "iSiopfeUgSaX"
      }
    },
    {
      "cell_type": "code",
      "source": [
        "def InceptionV3(input_shape, num_classes, dropout):\n",
        "  base_model = keras.applications.InceptionV3(\n",
        "    include_top=False,  # Não vai incluir a camada de classificação.\n",
        "    weights=None,       # Os pesos serão inicializados aleatóriamente.\n",
        "    input_shape=input_shape,\n",
        "  )\n",
        "\n",
        "  # Freeze the base_model\n",
        "  base_model.trainable = True # Sendo True vai permitir que os pesos sejam atualizados durante o treinamento\n",
        "\n",
        "  inputs = keras.Input(shape = input_shape)\n",
        "  x = data_augmentation(inputs)  # Apply random data augmentation\n",
        "\n",
        "  scale_layer = keras.layers.Rescaling(scale=1 / 127.5, offset=-1)\n",
        "  x = scale_layer(x)\n",
        "\n",
        "  x = base_model(x, training=True)\n",
        "  x = keras.layers.GlobalAveragePooling2D()(x)\n",
        "\n",
        "  if num_classes == 2:\n",
        "    activation = \"sigmoid\"\n",
        "    units = 1\n",
        "  else:\n",
        "    activation = \"softmax\"\n",
        "    units = num_classes\n",
        "\n",
        "  x = keras.layers.Dropout(dropout, name=\"dropout_2\")(x) # Regularize with dropout\n",
        "  x = keras.layers.Dense(1024, activation='relu')(x)\n",
        "  x = keras.layers.Dense(512, activation='relu')(x)\n",
        "  outputs = keras.layers.Dense(units, activation=activation)(x)\n",
        "  \n",
        "  return keras.Model(inputs, outputs)  "
      ],
      "metadata": {
        "id": "72LxFEe3gTlR"
      },
      "execution_count": 53,
      "outputs": []
    },
    {
      "cell_type": "code",
      "source": [
        "modelo = InceptionV3(input_shape, num_classes, dropout)  \n",
        "modelo.summary()"
      ],
      "metadata": {
        "colab": {
          "base_uri": "https://localhost:8080/"
        },
        "id": "nVi-JZ1mg6j-",
        "outputId": "0a1bd50c-7aa6-4f2f-d747-b5293435046e"
      },
      "execution_count": 54,
      "outputs": [
        {
          "output_type": "stream",
          "name": "stdout",
          "text": [
            "Model: \"model_15\"\n",
            "_________________________________________________________________\n",
            " Layer (type)                Output Shape              Param #   \n",
            "=================================================================\n",
            " input_47 (InputLayer)       [(None, 180, 180, 3)]     0         \n",
            "                                                                 \n",
            " sequential (Sequential)     (None, 180, 180, 3)       0         \n",
            "                                                                 \n",
            " rescaling_25 (Rescaling)    (None, 180, 180, 3)       0         \n",
            "                                                                 \n",
            " inception_v3 (Functional)   (None, 4, 4, 2048)        21802784  \n",
            "                                                                 \n",
            " global_average_pooling2d_22  (None, 2048)             0         \n",
            "  (GlobalAveragePooling2D)                                       \n",
            "                                                                 \n",
            " dropout_2 (Dropout)         (None, 2048)              0         \n",
            "                                                                 \n",
            " dense_66 (Dense)            (None, 1024)              2098176   \n",
            "                                                                 \n",
            " dense_67 (Dense)            (None, 512)               524800    \n",
            "                                                                 \n",
            " dense_68 (Dense)            (None, 1)                 513       \n",
            "                                                                 \n",
            "=================================================================\n",
            "Total params: 24,426,273\n",
            "Trainable params: 24,391,841\n",
            "Non-trainable params: 34,432\n",
            "_________________________________________________________________\n"
          ]
        }
      ]
    },
    {
      "cell_type": "markdown",
      "source": [
        "# EfficientNetB7"
      ],
      "metadata": {
        "id": "XdGZ5QhKiD6w"
      }
    },
    {
      "cell_type": "code",
      "source": [
        "def EfficientNetB7(input_shape, num_classes, dropout):\n",
        "  base_model = keras.applications.EfficientNetB7(\n",
        "    include_top=False, # Não vai incluir a camada de classificação.\n",
        "    weights=None, # Os pesos serão inicializados aleatóriamente.\n",
        "    input_shape=input_shape,\n",
        "  )\n",
        "\n",
        "  # Freeze the base_model\n",
        "  base_model.trainable = True # Sendo True vai permitir que os pesos sejam atualizados durante o treinamento\n",
        "\n",
        "  inputs = keras.Input(shape = input_shape)\n",
        "  x = data_augmentation(inputs)  # Apply random data augmentation\n",
        "\n",
        "  # For EfficientNet, input preprocessing is included as part of the model (as a Rescaling layer)\n",
        "  #scale_layer = keras.layers.Rescaling(scale=1 / 127.5, offset=-1)\n",
        "  #x = scale_layer(x)\n",
        "\n",
        "  x = base_model(x, training=True)\n",
        "  x = keras.layers.GlobalAveragePooling2D()(x)\n",
        "\n",
        "  if num_classes == 2:\n",
        "    activation = \"sigmoid\"\n",
        "    units = 1\n",
        "  else:\n",
        "    activation = \"softmax\"\n",
        "    units = num_classes\n",
        "\n",
        "  x = keras.layers.Dropout(dropout, name=\"dropout_2\")(x) # Regularize with dropout\n",
        "  x = keras.layers.Dense(1280, activation='relu')(x)\n",
        "  x = keras.layers.Dense(640, activation='relu')(x)\n",
        "  outputs = keras.layers.Dense(units, activation=activation)(x)\n",
        "  \n",
        "  return keras.Model(inputs, outputs)  "
      ],
      "metadata": {
        "id": "WZuJkFgJiFP5"
      },
      "execution_count": 61,
      "outputs": []
    },
    {
      "cell_type": "code",
      "source": [
        "modelo = EfficientNetB7(input_shape, num_classes, dropout)  \n",
        "modelo.summary()"
      ],
      "metadata": {
        "colab": {
          "base_uri": "https://localhost:8080/"
        },
        "id": "dj3Z-GW5iFou",
        "outputId": "fb338dff-9d7d-4a2e-f669-b9d5b0686f19"
      },
      "execution_count": 62,
      "outputs": [
        {
          "output_type": "stream",
          "name": "stdout",
          "text": [
            "Model: \"model_17\"\n",
            "_________________________________________________________________\n",
            " Layer (type)                Output Shape              Param #   \n",
            "=================================================================\n",
            " input_55 (InputLayer)       [(None, 180, 180, 3)]     0         \n",
            "                                                                 \n",
            " sequential (Sequential)     (None, 180, 180, 3)       0         \n",
            "                                                                 \n",
            " efficientnetb7 (Functional)  (None, 6, 6, 2560)       64097687  \n",
            "                                                                 \n",
            " global_average_pooling2d_26  (None, 2560)             0         \n",
            "  (GlobalAveragePooling2D)                                       \n",
            "                                                                 \n",
            " dropout_2 (Dropout)         (None, 2560)              0         \n",
            "                                                                 \n",
            " dense_78 (Dense)            (None, 1280)              3278080   \n",
            "                                                                 \n",
            " dense_79 (Dense)            (None, 640)               819840    \n",
            "                                                                 \n",
            " dense_80 (Dense)            (None, 1)                 641       \n",
            "                                                                 \n",
            "=================================================================\n",
            "Total params: 68,196,248\n",
            "Trainable params: 67,885,521\n",
            "Non-trainable params: 310,727\n",
            "_________________________________________________________________\n"
          ]
        }
      ]
    },
    {
      "cell_type": "markdown",
      "source": [
        "# VGG 19"
      ],
      "metadata": {
        "id": "TIkaAzEYoCU4"
      }
    },
    {
      "cell_type": "code",
      "source": [
        "def pre_processamento_VGG(dataset):\n",
        "  return keras.applications.vgg19.preprocess_input(dataset)\n",
        "\n",
        "\n",
        "def VGG19(input_shape, num_classes, dropout):\n",
        "  base_model = keras.applications.VGG19(\n",
        "    include_top=False, # Não vai incluir a camada de classificação.\n",
        "    weights=None,      # Os pesos serão inicializados aleatóriamente.\n",
        "    input_shape=input_shape,\n",
        "  )\n",
        "\n",
        "  # Freeze the base_model\n",
        "  base_model.trainable = True # Sendo True vai permitir que os pesos sejam atualizados durante o treinamento\n",
        "\n",
        "  inputs = keras.Input(shape = input_shape)\n",
        "  x = data_augmentation(inputs)  # Apply random data augmentation\n",
        "\n",
        "  # Os dados de entrada já estarão no formato correto, pela função pre_processamento_VGG\n",
        "  #scale_layer = keras.layers.Rescaling(scale=1 / 127.5, offset=-1)\n",
        "  #x = scale_layer(x)\n",
        "\n",
        "  x = base_model(x, training=True)\n",
        "  x = keras.layers.GlobalAveragePooling2D()(x)\n",
        "\n",
        "  if num_classes == 2:\n",
        "    activation = \"sigmoid\"\n",
        "    units = 1\n",
        "  else:\n",
        "    activation = \"softmax\"\n",
        "    units = num_classes\n",
        "\n",
        "  x = keras.layers.Dropout(dropout, name=\"dropout_2\")(x) # Regularize with dropout\n",
        "  x = keras.layers.Dense(256, activation='relu')(x)\n",
        "  x = keras.layers.Dense(128, activation='relu')(x)\n",
        "  outputs = keras.layers.Dense(units, activation=activation)(x)\n",
        "  \n",
        "  return keras.Model(inputs, outputs)  "
      ],
      "metadata": {
        "id": "pLaH5bgMoEBx"
      },
      "execution_count": 69,
      "outputs": []
    },
    {
      "cell_type": "code",
      "source": [
        "modelo = VGG19(input_shape, num_classes, dropout)  \n",
        "modelo.summary()"
      ],
      "metadata": {
        "colab": {
          "base_uri": "https://localhost:8080/"
        },
        "id": "1w1SUXlLoW_V",
        "outputId": "0740584b-c267-49c4-8a93-191d0e5b5c44"
      },
      "execution_count": 68,
      "outputs": [
        {
          "output_type": "stream",
          "name": "stdout",
          "text": [
            "Model: \"model_19\"\n",
            "_________________________________________________________________\n",
            " Layer (type)                Output Shape              Param #   \n",
            "=================================================================\n",
            " input_61 (InputLayer)       [(None, 180, 180, 3)]     0         \n",
            "                                                                 \n",
            " sequential (Sequential)     (None, 180, 180, 3)       0         \n",
            "                                                                 \n",
            " rescaling_32 (Rescaling)    (None, 180, 180, 3)       0         \n",
            "                                                                 \n",
            " vgg19 (Functional)          (None, 5, 5, 512)         20024384  \n",
            "                                                                 \n",
            " global_average_pooling2d_29  (None, 512)              0         \n",
            "  (GlobalAveragePooling2D)                                       \n",
            "                                                                 \n",
            " dropout_2 (Dropout)         (None, 512)               0         \n",
            "                                                                 \n",
            " dense_87 (Dense)            (None, 256)               131328    \n",
            "                                                                 \n",
            " dense_88 (Dense)            (None, 128)               32896     \n",
            "                                                                 \n",
            " dense_89 (Dense)            (None, 1)                 129       \n",
            "                                                                 \n",
            "=================================================================\n",
            "Total params: 20,188,737\n",
            "Trainable params: 20,188,737\n",
            "Non-trainable params: 0\n",
            "_________________________________________________________________\n"
          ]
        }
      ]
    },
    {
      "cell_type": "markdown",
      "source": [
        "# ResNet50V2 "
      ],
      "metadata": {
        "id": "Q_i3y55bhO8D"
      }
    },
    {
      "cell_type": "code",
      "source": [
        "def pre_processamento_ResNet(dataset):\n",
        "  return keras.applications.resnet_v2.preprocess_input(dataset)\n",
        "\n",
        "\n",
        "def ResNet50V2(input_shape, num_classes, dropout):\n",
        "  base_model = keras.applications.ResNet50V2(\n",
        "    include_top=False, # Não vai incluir a camada de classificação.\n",
        "    weights=None,      # Os pesos serão inicializados aleatóriamente.\n",
        "    input_shape=None,\n",
        "  )\n",
        "\n",
        "  # Freeze the base_model\n",
        "  base_model.trainable = True # Sendo True vai permitir que os pesos sejam atualizados durante o treinamento\n",
        "\n",
        "  inputs = keras.Input(shape = input_shape)\n",
        "  x = data_augmentation(inputs)  # Apply random data augmentation\n",
        "\n",
        "  # Os dados de entrada já estarão no formato correto, pela função pre_processamento_ResNet\n",
        "  #scale_layer = keras.layers.Rescaling(scale=1 / 127.5, offset=-1)\n",
        "  #x = scale_layer(x)\n",
        "\n",
        "  x = base_model(x, training=True)\n",
        "  x = keras.layers.GlobalAveragePooling2D()(x)\n",
        "\n",
        "  if num_classes == 2:\n",
        "    activation = \"sigmoid\"\n",
        "    units = 1\n",
        "  else:\n",
        "    activation = \"softmax\"\n",
        "    units = num_classes\n",
        "\n",
        "  x = keras.layers.Dropout(dropout, name=\"dropout_2\")(x) # Regularize with dropout\n",
        "  x = keras.layers.Dense(1024, activation='relu')(x)\n",
        "  x = keras.layers.Dense(512, activation='relu')(x)\n",
        "  outputs = keras.layers.Dense(units, activation=activation)(x)\n",
        "  \n",
        "  return keras.Model(inputs, outputs)  "
      ],
      "metadata": {
        "id": "E01Lw5pwhR_4"
      },
      "execution_count": 57,
      "outputs": []
    },
    {
      "cell_type": "code",
      "source": [
        "modelo = ResNet50V2(input_shape, num_classes, dropout)  \n",
        "modelo.summary()"
      ],
      "metadata": {
        "colab": {
          "base_uri": "https://localhost:8080/"
        },
        "id": "V7RYwV-2hSX2",
        "outputId": "cc3521f4-7ae2-41b7-df86-2cea3e8adf03"
      },
      "execution_count": 58,
      "outputs": [
        {
          "output_type": "stream",
          "name": "stdout",
          "text": [
            "Model: \"model_16\"\n",
            "_________________________________________________________________\n",
            " Layer (type)                Output Shape              Param #   \n",
            "=================================================================\n",
            " input_51 (InputLayer)       [(None, 180, 180, 3)]     0         \n",
            "                                                                 \n",
            " sequential (Sequential)     (None, 180, 180, 3)       0         \n",
            "                                                                 \n",
            " rescaling_27 (Rescaling)    (None, 180, 180, 3)       0         \n",
            "                                                                 \n",
            " resnet50v2 (Functional)     (None, None, None, 2048)  23564800  \n",
            "                                                                 \n",
            " global_average_pooling2d_24  (None, 2048)             0         \n",
            "  (GlobalAveragePooling2D)                                       \n",
            "                                                                 \n",
            " dropout_2 (Dropout)         (None, 2048)              0         \n",
            "                                                                 \n",
            " dense_72 (Dense)            (None, 1024)              2098176   \n",
            "                                                                 \n",
            " dense_73 (Dense)            (None, 512)               524800    \n",
            "                                                                 \n",
            " dense_74 (Dense)            (None, 1)                 513       \n",
            "                                                                 \n",
            "=================================================================\n",
            "Total params: 26,188,289\n",
            "Trainable params: 26,142,849\n",
            "Non-trainable params: 45,440\n",
            "_________________________________________________________________\n"
          ]
        }
      ]
    },
    {
      "cell_type": "markdown",
      "source": [
        "# Referências"
      ],
      "metadata": {
        "id": "qXvMYwMXNi6U"
      }
    },
    {
      "cell_type": "markdown",
      "source": [
        "[1] [Lista de modelos disponiveis no keras](https://keras.io/api/applications/#usage-examples-for-image-classification-models)"
      ],
      "metadata": {
        "id": "6bT4SyNoNlQ3"
      }
    }
  ]
}